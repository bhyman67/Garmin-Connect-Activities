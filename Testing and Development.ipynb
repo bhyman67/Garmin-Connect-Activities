{
 "cells": [
  {
   "cell_type": "code",
   "execution_count": 1,
   "metadata": {},
   "outputs": [
    {
     "name": "stdout",
     "output_type": "stream",
     "text": [
      "Done\n"
     ]
    }
   ],
   "source": [
    "# Set up the client object\n",
    "\n",
    "from garminconnect import Garmin\n",
    "from retrieve_creds import retrieve_creds\n",
    "\n",
    "username, password = retrieve_creds('garmin connect/explore')\n",
    "client = Garmin(username, password)\n",
    "client.login()\n",
    "\n",
    "print(\"Done\")"
   ]
  },
  {
   "cell_type": "code",
   "execution_count": 2,
   "metadata": {},
   "outputs": [
    {
     "name": "stdout",
     "output_type": "stream",
     "text": [
      "Done\n"
     ]
    }
   ],
   "source": [
    "filename = 'Lakewood_Running_17836250937.gpx'\n",
    "gpx = client.download_activity(\"17836250937\", Garmin.ActivityDownloadFormat.GPX)\n",
    "\n",
    "# with open(filename, 'wb') as f:\n",
    "#     f.write(gpx)\n",
    "#     print(\"Downloaded activity to\", filename)\n",
    "\n",
    "# Convert the bytes to a string\n",
    "gpx = gpx.decode(\"utf-8\")\n",
    "\n",
    "\n",
    "print(\"Done\")"
   ]
  },
  {
   "cell_type": "code",
   "execution_count": 4,
   "metadata": {},
   "outputs": [],
   "source": [
    "import gpxpy\n",
    "import gpxpy.gpx\n",
    "from geopy.distance import geodesic\n",
    "gpx = gpxpy.parse(gpx)"
   ]
  },
  {
   "cell_type": "code",
   "execution_count": 5,
   "metadata": {},
   "outputs": [
    {
     "name": "stdout",
     "output_type": "stream",
     "text": [
      "Total distance: 6.24 miles\n"
     ]
    }
   ],
   "source": [
    "\n",
    "\n",
    "# # Load the GPX file\n",
    "# with open('Lakewood_Running_17836250937.gpx', 'r') as gpx_file:\n",
    "#     gpx = gpxpy.parse(gpx_file)\n",
    "\n",
    "# Initialize total distance\n",
    "total_distance = 0.0\n",
    "\n",
    "# Iterate through track points and calculate distance\n",
    "for track in gpx.tracks:\n",
    "    for segment in track.segments:\n",
    "        for i in range(1, len(segment.points)):\n",
    "            point1 = segment.points[i - 1]\n",
    "            point2 = segment.points[i]\n",
    "            coords_1 = (point1.latitude, point1.longitude)\n",
    "            coords_2 = (point2.latitude, point2.longitude)\n",
    "            total_distance += geodesic(coords_1, coords_2).miles\n",
    "\n",
    "print(f\"Total distance: {total_distance:.2f} miles\")"
   ]
  },
  {
   "cell_type": "code",
   "execution_count": 6,
   "metadata": {},
   "outputs": [
    {
     "name": "stdout",
     "output_type": "stream",
     "text": [
      "Elapsed time to reach 5 kilometers: 0:29:39\n"
     ]
    }
   ],
   "source": [
    "\n",
    "from datetime import datetime\n",
    "\n",
    "\n",
    "\n",
    "# Initialize total distance and start time\n",
    "total_distance = 0.0\n",
    "start_time = None\n",
    "elapsed_time_5k = None\n",
    "\n",
    "# Iterate through track points and calculate distance\n",
    "for track in gpx.tracks:\n",
    "    for segment in track.segments:\n",
    "        for i in range(1, len(segment.points)):\n",
    "            point1 = segment.points[i - 1]\n",
    "            point2 = segment.points[i]\n",
    "            coords_1 = (point1.latitude, point1.longitude)\n",
    "            coords_2 = (point2.latitude, point2.longitude)\n",
    "            distance = geodesic(coords_1, coords_2).kilometers\n",
    "            total_distance += distance\n",
    "\n",
    "            # Record the start time\n",
    "            if start_time is None:\n",
    "                start_time = point1.time\n",
    "\n",
    "            # Check if the total distance has reached 5 kilometers\n",
    "            if total_distance >= 5.0 and elapsed_time_5k is None:\n",
    "                elapsed_time_5k = point2.time - start_time\n",
    "                break\n",
    "\n",
    "        if elapsed_time_5k is not None:\n",
    "            break\n",
    "    if elapsed_time_5k is not None:\n",
    "        break\n",
    "\n",
    "if elapsed_time_5k is not None:\n",
    "    print(f\"Elapsed time to reach 5 kilometers: {elapsed_time_5k}\")\n",
    "else:\n",
    "    print(\"5 kilometers not reached in the provided GPX data.\")"
   ]
  },
  {
   "cell_type": "code",
   "execution_count": null,
   "metadata": {},
   "outputs": [],
   "source": [
    "# Read in from Garmin 945 Activities Raw.pkl in the current directory\n",
    "\n",
    "# alright... you're going to need the GPX fo all runs you've done. And then pull out the elapsed time from that... \n",
    "\n",
    "import pickle\n",
    "import pandas as pd\n",
    "\n",
    "# Read in the data\n",
    "with open('Garmin 945 Activities Raw.pkl', 'rb') as f:\n",
    "    activity_data = pickle.load(f)\n",
    "\n",
    "\n",
    "# filter activityType down to these activities: Running, Treadmill Running, Trail Running\n",
    "activity_data['activityType'] = activity_data['activityType'].apply(lambda x: x.get('typeKey') if isinstance(x, dict) else None)\n",
    "activity_data = activity_data[activity_data['activityType'].isin(['running', 'treadmill_running', 'Trail_running'])]\n",
    "\n",
    "# subset cols to just the activityId and activityName (convert both to strings, first)\n",
    "activity_data['activityId'] = activity_data['activityId'].astype(str)\n",
    "activity_data['activityName'] = activity_data['activityName'].astype(str)\n",
    "activity_data = activity_data[['activityId', 'activityName', 'activityType']]\n",
    "\n",
    "# Create a gpxFileName column that is activityName_activity_id.gpx\n",
    "activity_data['gpxFileName'] = activity_data['activityName'] + '_' + activity_data['activityId'] + '.gpx'\n",
    "activity_data['gpxFileName'] = activity_data['gpxFileName'].str.replace(' ', '_')\n",
    "\n",
    "x = activity_data.gpxFileName[0:1]\n",
    "print(x)\n",
    "\n",
    "\n",
    "\n",
    "\n"
   ]
  },
  {
   "cell_type": "code",
   "execution_count": null,
   "metadata": {},
   "outputs": [],
   "source": [
    "import os\n",
    "from garminconnect import Garmin, GarminConnectConnectionError, GarminConnectTooManyRequestsError\n",
    "\n",
    "# Replace with your Garmin Connect credentials\n",
    "USERNAME = \"your_email\"\n",
    "PASSWORD = \"your_password\"\n",
    "\n",
    "def download_gpx(activity_id, filename):\n",
    "    \"\"\"\n",
    "    Downloads the GPX file for a specific activity.\n",
    "    \"\"\"\n",
    "    try:\n",
    "        with open(filename, \"wb\") as gpx_file:\n",
    "            gpx_file.write(api.download_activity(activity_id, \"gpx\"))\n",
    "        print(f\"GPX file saved as {filename}\")\n",
    "    except Exception as e:\n",
    "        print(f\"Error downloading GPX for activity {activity_id}: {e}\")\n",
    "\n",
    "try:\n",
    "    # Login to Garmin Connect\n",
    "    api = Garmin(USERNAME, PASSWORD)\n",
    "    api.login()\n",
    "\n",
    "    # Fetch recent activities\n",
    "    print(\"Fetching activities...\")\n",
    "    activities = api.get_activities(0, 10)  # Fetch 10 activities; adjust as needed\n",
    "\n",
    "    # Process each activity\n",
    "    for activity in activities:\n",
    "        activity_id = activity[\"activityId\"]\n",
    "        activity_name = activity.get(\"activityName\", \"Activity\")\n",
    "        gpx_filename = f\"{activity_name}_{activity_id}.gpx\"\n",
    "        gpx_filename = gpx_filename.replace(\" \", \"_\")  # Replace spaces with underscores for filename safety\n",
    "        print(f\"Downloading GPX for activity {activity_name} (ID: {activity_id})...\")\n",
    "        download_gpx(activity_id, gpx_filename)\n",
    "\n",
    "except GarminConnectConnectionError as conn_err:\n",
    "    print(f\"Connection error: {conn_err}\")\n",
    "except GarminConnectTooManyRequestsError as rate_err:\n",
    "    print(f\"Too many requests: {rate_err}\")\n",
    "except Exception as e:\n",
    "    print(f\"An error occurred: {e}\")\n"
   ]
  }
 ],
 "metadata": {
  "kernelspec": {
   "display_name": "Python 3",
   "language": "python",
   "name": "python3"
  },
  "language_info": {
   "codemirror_mode": {
    "name": "ipython",
    "version": 3
   },
   "file_extension": ".py",
   "mimetype": "text/x-python",
   "name": "python",
   "nbconvert_exporter": "python",
   "pygments_lexer": "ipython3",
   "version": "3.13.0"
  }
 },
 "nbformat": 4,
 "nbformat_minor": 2
}
